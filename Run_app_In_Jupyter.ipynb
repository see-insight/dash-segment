{
 "cells": [
  {
   "cell_type": "code",
   "execution_count": null,
   "id": "entire-wages",
   "metadata": {},
   "outputs": [],
   "source": [
    "import app"
   ]
  },
  {
   "cell_type": "code",
   "execution_count": null,
   "id": "capital-trainer",
   "metadata": {},
   "outputs": [],
   "source": [
    "myapp = app.app"
   ]
  },
  {
   "cell_type": "code",
   "execution_count": null,
   "id": "constant-arrest",
   "metadata": {},
   "outputs": [],
   "source": [
    "myapp.run_server(mode='inline')"
   ]
  }
 ],
 "metadata": {
  "kernelspec": {
   "display_name": "Python 3",
   "language": "python",
   "name": "python3"
  },
  "language_info": {
   "codemirror_mode": {
    "name": "ipython",
    "version": 3
   },
   "file_extension": ".py",
   "mimetype": "text/x-python",
   "name": "python",
   "nbconvert_exporter": "python",
   "pygments_lexer": "ipython3",
   "version": "3.7.9"
  }
 },
 "nbformat": 4,
 "nbformat_minor": 5
}
